{
 "cells": [
  {
   "cell_type": "markdown",
   "metadata": {},
   "source": [
    "# Dive into Prompting"
   ]
  },
  {
   "cell_type": "markdown",
   "metadata": {},
   "source": [
    "## Regular Usage"
   ]
  },
  {
   "cell_type": "markdown",
   "metadata": {},
   "source": [
    "Here we may encounter a problem:\n",
    "\n",
    "``` bash\n",
    "\n",
    "AuthenticationError: No api key provided. You can set by dashscope.api_key = your_api_key in code, or you can set it via environment variable DASHSCOPE_API_KEY= your_api_key. You can store your api key to a file, and use dashscope.api_key_file_path=api_key_file_path in code, or you can set api key file path via environment variable DASHSCOPE_API_KEY_FILE_PATH, You can call save_api_key to api_key_file_path or default path(~/.dashscope/api_key).\n",
    "\n",
    "```\n",
    "\n",
    "What we have to do is save our api_key that applied from `aliyun` into the default path(`~/.dashscope/api_key`).\n",
    "\n",
    "On our windows system, it should be at the position `C:\\Users\\Administrator\\.dashscope\\api_key`."
   ]
  },
  {
   "cell_type": "code",
   "execution_count": 2,
   "metadata": {},
   "outputs": [
    {
     "name": "stdout",
     "output_type": "stream",
     "text": [
      "{\"text\": \"当然可以，这里有一个简单的三菜合一的菜品建议——“蔬菜炖锅”。这道菜不仅营养丰富，而且烹饪过程简单，非常适合家庭晚餐或周末烹饪。以下是具体的步骤：\\n\\n**材料：**\\n- 萝卜 1 根\\n- 土豆 2 个\\n- 茄子 2 个\\n- 洋葱 半个\\n- 大蒜 3 瓣\\n- 香菇 5-6 朵（可选）\\n- 番茄酱 2 汤匙\\n- 盐 适量\\n- 黑胡椒粉 适量\\n- 橄榄油 适量\\n- 清水 适量\\n\\n**步骤：**\\n1. **准备食材：**萝卜切块，土豆去皮切块，茄子去蒂切滚刀块，洋葱切片，大蒜剁碎，香菇洗净切片（如果使用）。\\n\\n2. **预热锅子：**在锅中加入适量橄榄油，加热后放入洋葱和大蒜炒香。\\n\\n3. **加入蔬菜：**将土豆和萝卜块放入锅中，翻煎几分钟让它们表面微焦，这样可以增加口感。\\n\\n4. **加入茄子：**将茄子块加入锅中，继续翻煎至所有蔬菜都稍微软化。\\n\\n5. **调入番茄酱：**倒入番茄酱，轻轻搅拌均匀，让蔬菜充分吸收番茄酱的味道。\\n\\n6. **加水：**加入足够的清水，水量要没过蔬菜，大火烧开后转小火慢慢炖煮，盖上锅盖。\\n\\n7. **调味：**根据个人口味添加盐和黑胡椒粉调味，炖煮约20-30分钟，直到蔬菜熟透且汤汁浓郁。\\n\\n8. **出锅：**最后撒上香菇片（如果使用），再炖煮5分钟左右即可出锅。\\n\\n这道“蔬菜炖锅”既美味又健康，你可以根据自己的口味调整食材和调料，例如添加一些香料如迷迭香或百里香提升风味。享受你的美食时间吧！\", \"finish_reason\": \"stop\", \"choices\": null}\n",
      "\n"
     ]
    }
   ],
   "source": [
    "# For prerequisites running the following sample, visit https://help.aliyun.com/document_detail/611472.htmlfrom http import HTTPStatus\n",
    "import dashscope\n",
    "\n",
    "\n",
    "def sample_sync_call():\n",
    "    prompt_text = '用萝卜、土豆、茄子做饭，给我个菜谱。'\n",
    "    resp = dashscope.Generation.call(\n",
    "        # model='qwen-turbo',\n",
    "        model=dashscope.Generation.Models.qwen_turbo,\n",
    "        prompt=prompt_text\n",
    "    )\n",
    "    # The response status_code is HTTPStatus.OK indicate success,# otherwise indicate request is failed,\n",
    "    # you can get error code# and message from code and message.if resp.status_code == HTTPStatus.OK:\n",
    "    print(resp.output) # The output textprint(resp.usage)# The usage informationelse:\n",
    "    print(resp.code)# The error code.print(resp.message)# The error message.\n",
    "\n",
    "sample_sync_call()"
   ]
  },
  {
   "cell_type": "markdown",
   "metadata": {},
   "source": [
    "## Usage by stream"
   ]
  },
  {
   "cell_type": "code",
   "execution_count": 3,
   "metadata": {},
   "outputs": [
    {
     "name": "stdout",
     "output_type": "stream",
     "text": [
      "当然可以，这里有一个简单的三菜合一的菜品建议——“蔬菜炖锅”。这道菜不仅营养丰富，而且烹饪过程简单，非常适合家庭晚餐或周末烹饪。以下是具体的步骤：\n",
      "\n",
      "**材料：**\n",
      "- 萝卜 1 根\n",
      "- 土豆 2 个\n",
      "- 茄子 2 个\n",
      "- 洋葱 半个\n",
      "- 大蒜 3 瓣\n",
      "- 香菇 5-6 朵（可选）\n",
      "- 番茄酱 2 汤匙\n",
      "- 盐 适量\n",
      "- 黑胡椒粉 适量\n",
      "- 橄榄油 适量\n",
      "- 清水 适量\n",
      "\n",
      "**步骤：**\n",
      "1. **准备食材：**萝卜切块，土豆去皮切块，茄子去蒂切滚刀块，洋葱切片，大蒜剁碎，香菇洗净切片（如果使用）。\n",
      "\n",
      "2. **预热锅子：**在锅中加入适量橄榄油，加热后放入洋葱和大蒜炒香。\n",
      "\n",
      "3. **加入蔬菜：**将土豆和萝卜块放入锅中，翻煎几分钟让它们表面微焦，这样可以增加口感。\n",
      "\n",
      "4. **加入茄子：**将茄子块加入锅中，继续翻煎至所有蔬菜都稍微软化。\n",
      "\n",
      "5. **调入番茄酱：**倒入番茄酱，轻轻搅拌均匀，让蔬菜充分吸收番茄酱的味道。\n",
      "\n",
      "6. **加水：**加入足够的清水，水量要没过蔬菜，大火烧开后转小火慢慢炖煮，盖上锅盖。\n",
      "\n",
      "7. **调味：**根据个人口味添加盐和黑胡椒粉调味，炖煮约20-30分钟，直到蔬菜熟透且汤汁浓郁。\n",
      "\n",
      "8. **出锅：**最后撒上香菇片（如果使用），再炖煮5分钟左右即可出锅。\n",
      "\n",
      "这道“蔬菜炖锅”既美味又健康，你可以根据自己的口味调整食材和调料，例如添加一些香料如迷迭香或百里香提升风味。享受你的美食时间吧！"
     ]
    }
   ],
   "source": [
    "# For prerequisites running the following sample, visit https://help.aliyun.com/document_detail/611472.html\n",
    "\n",
    "import dashscope\n",
    "\n",
    "\n",
    "def sample_sync_call_streaming():\n",
    "    prompt_text = '用萝卜、土豆、茄子做饭，给我个菜谱。'\n",
    "    response_generator = dashscope.Generation.call(\n",
    "        model='qwen-turbo',\n",
    "        prompt=prompt_text,\n",
    "        stream=True,\n",
    "        top_p=0.8)\n",
    "    head_idx = 0\n",
    "    for resp in response_generator:\n",
    "        paragraph = resp.output['text']\n",
    "        print(\"\\r%s\" % paragraph[head_idx:len(paragraph)], end='')\n",
    "        if(paragraph.rfind('\\n') != -1):\n",
    "            head_idx = paragraph.rfind('\\n') + 1\n",
    "\n",
    "sample_sync_call_streaming()"
   ]
  }
 ],
 "metadata": {
  "kernelspec": {
   "display_name": "diveintollms",
   "language": "python",
   "name": "diveintollms"
  },
  "language_info": {
   "codemirror_mode": {
    "name": "ipython",
    "version": 3
   },
   "file_extension": ".py",
   "mimetype": "text/x-python",
   "name": "python",
   "nbconvert_exporter": "python",
   "pygments_lexer": "ipython3",
   "version": "3.9.19"
  }
 },
 "nbformat": 4,
 "nbformat_minor": 2
}
